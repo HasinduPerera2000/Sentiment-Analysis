{
 "cells": [
  {
   "cell_type": "markdown",
   "id": "d92cd100",
   "metadata": {},
   "source": [
    "# Text analytics - Group Assignment"
   ]
  },
  {
   "cell_type": "code",
   "execution_count": 43,
   "id": "52342b10",
   "metadata": {},
   "outputs": [],
   "source": [
    "# Import libraries\n",
    "import pandas as pd\n",
    "import nltk\n",
    "from nltk.tokenize import word_tokenize\n",
    "from nltk.corpus import stopwords\n",
    "from nltk.stem import PorterStemmer\n",
    "from nltk.stem import WordNetLemmatizer\n",
    "import string"
   ]
  },
  {
   "cell_type": "code",
   "execution_count": 44,
   "id": "dfa8866e",
   "metadata": {},
   "outputs": [
    {
     "data": {
      "text/html": [
       "<div>\n",
       "<style scoped>\n",
       "    .dataframe tbody tr th:only-of-type {\n",
       "        vertical-align: middle;\n",
       "    }\n",
       "\n",
       "    .dataframe tbody tr th {\n",
       "        vertical-align: top;\n",
       "    }\n",
       "\n",
       "    .dataframe thead th {\n",
       "        text-align: right;\n",
       "    }\n",
       "</style>\n",
       "<table border=\"1\" class=\"dataframe\">\n",
       "  <thead>\n",
       "    <tr style=\"text-align: right;\">\n",
       "      <th></th>\n",
       "      <th>title</th>\n",
       "      <th>updated_time</th>\n",
       "    </tr>\n",
       "  </thead>\n",
       "  <tbody>\n",
       "    <tr>\n",
       "      <th>0</th>\n",
       "      <td>Microsoft offers cloud customers AMD alternati...</td>\n",
       "      <td>5/17/2024</td>\n",
       "    </tr>\n",
       "    <tr>\n",
       "      <th>1</th>\n",
       "      <td>UK's CMA rejects probe into Microsoft-Mistral ...</td>\n",
       "      <td>5/17/2024</td>\n",
       "    </tr>\n",
       "    <tr>\n",
       "      <th>2</th>\n",
       "      <td>Shoprite's Checkers extends on-demand delivery...</td>\n",
       "      <td>5/17/2024</td>\n",
       "    </tr>\n",
       "    <tr>\n",
       "      <th>3</th>\n",
       "      <td>CoreWeave raises $7.5 billion in debt deal led...</td>\n",
       "      <td>5/17/2024</td>\n",
       "    </tr>\n",
       "    <tr>\n",
       "      <th>4</th>\n",
       "      <td>TV companies flaunt ad tech and AI to persuade...</td>\n",
       "      <td>5/17/2024</td>\n",
       "    </tr>\n",
       "  </tbody>\n",
       "</table>\n",
       "</div>"
      ],
      "text/plain": [
       "                                               title updated_time\n",
       "0  Microsoft offers cloud customers AMD alternati...    5/17/2024\n",
       "1  UK's CMA rejects probe into Microsoft-Mistral ...    5/17/2024\n",
       "2  Shoprite's Checkers extends on-demand delivery...    5/17/2024\n",
       "3  CoreWeave raises $7.5 billion in debt deal led...    5/17/2024\n",
       "4  TV companies flaunt ad tech and AI to persuade...    5/17/2024"
      ]
     },
     "execution_count": 44,
     "metadata": {},
     "output_type": "execute_result"
    }
   ],
   "source": [
    "# Load the news headlines dataset\n",
    "news_df = pd.read_csv(r'C:\\Users\\User\\Desktop\\Semester 7\\text analysis\\group assignment\\amazon_news_info_new.csv')\n",
    "\n",
    "news_df.head()"
   ]
  },
  {
   "cell_type": "markdown",
   "id": "752b2811",
   "metadata": {},
   "source": [
    "# Data Preprocessing: Preprocess the dataset by cleaning and transforming the textual data."
   ]
  },
  {
   "cell_type": "code",
   "execution_count": 45,
   "id": "7efa09f8",
   "metadata": {},
   "outputs": [
    {
     "data": {
      "text/html": [
       "<div>\n",
       "<style scoped>\n",
       "    .dataframe tbody tr th:only-of-type {\n",
       "        vertical-align: middle;\n",
       "    }\n",
       "\n",
       "    .dataframe tbody tr th {\n",
       "        vertical-align: top;\n",
       "    }\n",
       "\n",
       "    .dataframe thead th {\n",
       "        text-align: right;\n",
       "    }\n",
       "</style>\n",
       "<table border=\"1\" class=\"dataframe\">\n",
       "  <thead>\n",
       "    <tr style=\"text-align: right;\">\n",
       "      <th></th>\n",
       "      <th>Headline</th>\n",
       "      <th>Date</th>\n",
       "    </tr>\n",
       "  </thead>\n",
       "  <tbody>\n",
       "    <tr>\n",
       "      <th>0</th>\n",
       "      <td>Microsoft offers cloud customers AMD alternati...</td>\n",
       "      <td>5/17/2024</td>\n",
       "    </tr>\n",
       "    <tr>\n",
       "      <th>1</th>\n",
       "      <td>UK's CMA rejects probe into Microsoft-Mistral ...</td>\n",
       "      <td>5/17/2024</td>\n",
       "    </tr>\n",
       "    <tr>\n",
       "      <th>2</th>\n",
       "      <td>Shoprite's Checkers extends on-demand delivery...</td>\n",
       "      <td>5/17/2024</td>\n",
       "    </tr>\n",
       "    <tr>\n",
       "      <th>3</th>\n",
       "      <td>CoreWeave raises $7.5 billion in debt deal led...</td>\n",
       "      <td>5/17/2024</td>\n",
       "    </tr>\n",
       "    <tr>\n",
       "      <th>4</th>\n",
       "      <td>TV companies flaunt ad tech and AI to persuade...</td>\n",
       "      <td>5/17/2024</td>\n",
       "    </tr>\n",
       "  </tbody>\n",
       "</table>\n",
       "</div>"
      ],
      "text/plain": [
       "                                            Headline       Date\n",
       "0  Microsoft offers cloud customers AMD alternati...  5/17/2024\n",
       "1  UK's CMA rejects probe into Microsoft-Mistral ...  5/17/2024\n",
       "2  Shoprite's Checkers extends on-demand delivery...  5/17/2024\n",
       "3  CoreWeave raises $7.5 billion in debt deal led...  5/17/2024\n",
       "4  TV companies flaunt ad tech and AI to persuade...  5/17/2024"
      ]
     },
     "execution_count": 45,
     "metadata": {},
     "output_type": "execute_result"
    }
   ],
   "source": [
    "#change updated time column to Date column and title column to headline column\n",
    "news_df.rename(columns={'updated_time': 'Date', 'title': 'Headline'}, inplace=True)\n",
    "news_df.head()"
   ]
  },
  {
   "cell_type": "markdown",
   "id": "b1c04a1a",
   "metadata": {},
   "source": [
    "# Text normalization (lowercasing, removing punctuation)"
   ]
  },
  {
   "cell_type": "code",
   "execution_count": 46,
   "id": "14ff2e88",
   "metadata": {},
   "outputs": [
    {
     "data": {
      "text/html": [
       "<div>\n",
       "<style scoped>\n",
       "    .dataframe tbody tr th:only-of-type {\n",
       "        vertical-align: middle;\n",
       "    }\n",
       "\n",
       "    .dataframe tbody tr th {\n",
       "        vertical-align: top;\n",
       "    }\n",
       "\n",
       "    .dataframe thead th {\n",
       "        text-align: right;\n",
       "    }\n",
       "</style>\n",
       "<table border=\"1\" class=\"dataframe\">\n",
       "  <thead>\n",
       "    <tr style=\"text-align: right;\">\n",
       "      <th></th>\n",
       "      <th>Headline</th>\n",
       "      <th>Date</th>\n",
       "    </tr>\n",
       "  </thead>\n",
       "  <tbody>\n",
       "    <tr>\n",
       "      <th>0</th>\n",
       "      <td>microsoft offers cloud customers amd alternati...</td>\n",
       "      <td>5/17/2024</td>\n",
       "    </tr>\n",
       "    <tr>\n",
       "      <th>1</th>\n",
       "      <td>uk's cma rejects probe into microsoft-mistral ...</td>\n",
       "      <td>5/17/2024</td>\n",
       "    </tr>\n",
       "    <tr>\n",
       "      <th>2</th>\n",
       "      <td>shoprite's checkers extends on-demand delivery...</td>\n",
       "      <td>5/17/2024</td>\n",
       "    </tr>\n",
       "    <tr>\n",
       "      <th>3</th>\n",
       "      <td>coreweave raises $7.5 billion in debt deal led...</td>\n",
       "      <td>5/17/2024</td>\n",
       "    </tr>\n",
       "    <tr>\n",
       "      <th>4</th>\n",
       "      <td>tv companies flaunt ad tech and ai to persuade...</td>\n",
       "      <td>5/17/2024</td>\n",
       "    </tr>\n",
       "  </tbody>\n",
       "</table>\n",
       "</div>"
      ],
      "text/plain": [
       "                                            Headline       Date\n",
       "0  microsoft offers cloud customers amd alternati...  5/17/2024\n",
       "1  uk's cma rejects probe into microsoft-mistral ...  5/17/2024\n",
       "2  shoprite's checkers extends on-demand delivery...  5/17/2024\n",
       "3  coreweave raises $7.5 billion in debt deal led...  5/17/2024\n",
       "4  tv companies flaunt ad tech and ai to persuade...  5/17/2024"
      ]
     },
     "execution_count": 46,
     "metadata": {},
     "output_type": "execute_result"
    }
   ],
   "source": [
    "#lowecasing the data\n",
    "news_df['Headline'] = news_df['Headline'].str.lower()\n",
    "news_df.head()"
   ]
  },
  {
   "cell_type": "code",
   "execution_count": 47,
   "id": "eadbabf3",
   "metadata": {},
   "outputs": [
    {
     "data": {
      "text/html": [
       "<div>\n",
       "<style scoped>\n",
       "    .dataframe tbody tr th:only-of-type {\n",
       "        vertical-align: middle;\n",
       "    }\n",
       "\n",
       "    .dataframe tbody tr th {\n",
       "        vertical-align: top;\n",
       "    }\n",
       "\n",
       "    .dataframe thead th {\n",
       "        text-align: right;\n",
       "    }\n",
       "</style>\n",
       "<table border=\"1\" class=\"dataframe\">\n",
       "  <thead>\n",
       "    <tr style=\"text-align: right;\">\n",
       "      <th></th>\n",
       "      <th>Headline</th>\n",
       "      <th>Date</th>\n",
       "    </tr>\n",
       "  </thead>\n",
       "  <tbody>\n",
       "    <tr>\n",
       "      <th>0</th>\n",
       "      <td>microsoft offers cloud customers amd alternati...</td>\n",
       "      <td>5/17/2024</td>\n",
       "    </tr>\n",
       "    <tr>\n",
       "      <th>1</th>\n",
       "      <td>uks cma rejects probe into microsoft-mistral a...</td>\n",
       "      <td>5/17/2024</td>\n",
       "    </tr>\n",
       "    <tr>\n",
       "      <th>2</th>\n",
       "      <td>shoprites checkers extends on-demand delivery ...</td>\n",
       "      <td>5/17/2024</td>\n",
       "    </tr>\n",
       "    <tr>\n",
       "      <th>3</th>\n",
       "      <td>coreweave raises 7.5 billion in debt deal led ...</td>\n",
       "      <td>5/17/2024</td>\n",
       "    </tr>\n",
       "    <tr>\n",
       "      <th>4</th>\n",
       "      <td>tv companies flaunt ad tech and ai to persuade...</td>\n",
       "      <td>5/17/2024</td>\n",
       "    </tr>\n",
       "  </tbody>\n",
       "</table>\n",
       "</div>"
      ],
      "text/plain": [
       "                                            Headline       Date\n",
       "0  microsoft offers cloud customers amd alternati...  5/17/2024\n",
       "1  uks cma rejects probe into microsoft-mistral a...  5/17/2024\n",
       "2  shoprites checkers extends on-demand delivery ...  5/17/2024\n",
       "3  coreweave raises 7.5 billion in debt deal led ...  5/17/2024\n",
       "4  tv companies flaunt ad tech and ai to persuade...  5/17/2024"
      ]
     },
     "execution_count": 47,
     "metadata": {},
     "output_type": "execute_result"
    }
   ],
   "source": [
    "#remove punctuation\n",
    "import re  \n",
    "\n",
    "news_df['Headline'] = news_df['Headline'].apply(lambda x: re.sub(r'[^\\w\\s\\.\\-]', '', x))\n",
    "\n",
    "news_df.head()"
   ]
  },
  {
   "cell_type": "markdown",
   "id": "33c8b972",
   "metadata": {},
   "source": [
    "# Tokenization"
   ]
  },
  {
   "cell_type": "code",
   "execution_count": 48,
   "id": "d2ba3fa2",
   "metadata": {},
   "outputs": [
    {
     "name": "stderr",
     "output_type": "stream",
     "text": [
      "[nltk_data] Downloading package punkt to\n",
      "[nltk_data]     C:\\Users\\User\\AppData\\Roaming\\nltk_data...\n",
      "[nltk_data]   Package punkt is already up-to-date!\n"
     ]
    },
    {
     "data": {
      "text/plain": [
       "True"
      ]
     },
     "execution_count": 48,
     "metadata": {},
     "output_type": "execute_result"
    }
   ],
   "source": [
    "import nltk\n",
    "nltk.download('punkt')"
   ]
  },
  {
   "cell_type": "code",
   "execution_count": 49,
   "id": "0717b526",
   "metadata": {},
   "outputs": [
    {
     "data": {
      "text/html": [
       "<div>\n",
       "<style scoped>\n",
       "    .dataframe tbody tr th:only-of-type {\n",
       "        vertical-align: middle;\n",
       "    }\n",
       "\n",
       "    .dataframe tbody tr th {\n",
       "        vertical-align: top;\n",
       "    }\n",
       "\n",
       "    .dataframe thead th {\n",
       "        text-align: right;\n",
       "    }\n",
       "</style>\n",
       "<table border=\"1\" class=\"dataframe\">\n",
       "  <thead>\n",
       "    <tr style=\"text-align: right;\">\n",
       "      <th></th>\n",
       "      <th>Headline</th>\n",
       "      <th>Date</th>\n",
       "    </tr>\n",
       "  </thead>\n",
       "  <tbody>\n",
       "    <tr>\n",
       "      <th>0</th>\n",
       "      <td>[microsoft, offers, cloud, customers, amd, alt...</td>\n",
       "      <td>5/17/2024</td>\n",
       "    </tr>\n",
       "    <tr>\n",
       "      <th>1</th>\n",
       "      <td>[uks, cma, rejects, probe, into, microsoft-mis...</td>\n",
       "      <td>5/17/2024</td>\n",
       "    </tr>\n",
       "    <tr>\n",
       "      <th>2</th>\n",
       "      <td>[shoprites, checkers, extends, on-demand, deli...</td>\n",
       "      <td>5/17/2024</td>\n",
       "    </tr>\n",
       "    <tr>\n",
       "      <th>3</th>\n",
       "      <td>[coreweave, raises, 7.5, billion, in, debt, de...</td>\n",
       "      <td>5/17/2024</td>\n",
       "    </tr>\n",
       "    <tr>\n",
       "      <th>4</th>\n",
       "      <td>[tv, companies, flaunt, ad, tech, and, ai, to,...</td>\n",
       "      <td>5/17/2024</td>\n",
       "    </tr>\n",
       "  </tbody>\n",
       "</table>\n",
       "</div>"
      ],
      "text/plain": [
       "                                            Headline       Date\n",
       "0  [microsoft, offers, cloud, customers, amd, alt...  5/17/2024\n",
       "1  [uks, cma, rejects, probe, into, microsoft-mis...  5/17/2024\n",
       "2  [shoprites, checkers, extends, on-demand, deli...  5/17/2024\n",
       "3  [coreweave, raises, 7.5, billion, in, debt, de...  5/17/2024\n",
       "4  [tv, companies, flaunt, ad, tech, and, ai, to,...  5/17/2024"
      ]
     },
     "execution_count": 49,
     "metadata": {},
     "output_type": "execute_result"
    }
   ],
   "source": [
    "# Tokenize the text\n",
    "news_df['Headline'] = news_df['Headline'].apply(word_tokenize)\n",
    "news_df.head()"
   ]
  },
  {
   "cell_type": "markdown",
   "id": "0bb6d574",
   "metadata": {},
   "source": [
    "# Removing stopwords"
   ]
  },
  {
   "cell_type": "code",
   "execution_count": 50,
   "id": "a946c593",
   "metadata": {},
   "outputs": [
    {
     "name": "stderr",
     "output_type": "stream",
     "text": [
      "[nltk_data] Downloading package stopwords to\n",
      "[nltk_data]     C:\\Users\\User\\AppData\\Roaming\\nltk_data...\n",
      "[nltk_data]   Package stopwords is already up-to-date!\n"
     ]
    },
    {
     "data": {
      "text/plain": [
       "True"
      ]
     },
     "execution_count": 50,
     "metadata": {},
     "output_type": "execute_result"
    }
   ],
   "source": [
    "from nltk.corpus import stopwords\n",
    "\n",
    "# Ensure NLTK resources are available\n",
    "nltk.download('stopwords')\n",
    "\n"
   ]
  },
  {
   "cell_type": "code",
   "execution_count": 51,
   "id": "66474193",
   "metadata": {},
   "outputs": [
    {
     "data": {
      "text/html": [
       "<div>\n",
       "<style scoped>\n",
       "    .dataframe tbody tr th:only-of-type {\n",
       "        vertical-align: middle;\n",
       "    }\n",
       "\n",
       "    .dataframe tbody tr th {\n",
       "        vertical-align: top;\n",
       "    }\n",
       "\n",
       "    .dataframe thead th {\n",
       "        text-align: right;\n",
       "    }\n",
       "</style>\n",
       "<table border=\"1\" class=\"dataframe\">\n",
       "  <thead>\n",
       "    <tr style=\"text-align: right;\">\n",
       "      <th></th>\n",
       "      <th>Headline</th>\n",
       "      <th>Date</th>\n",
       "    </tr>\n",
       "  </thead>\n",
       "  <tbody>\n",
       "    <tr>\n",
       "      <th>0</th>\n",
       "      <td>[microsoft, offers, cloud, customers, amd, alt...</td>\n",
       "      <td>5/17/2024</td>\n",
       "    </tr>\n",
       "    <tr>\n",
       "      <th>1</th>\n",
       "      <td>[uks, cma, rejects, probe, microsoft-mistral, ...</td>\n",
       "      <td>5/17/2024</td>\n",
       "    </tr>\n",
       "    <tr>\n",
       "      <th>2</th>\n",
       "      <td>[shoprites, checkers, extends, on-demand, deli...</td>\n",
       "      <td>5/17/2024</td>\n",
       "    </tr>\n",
       "    <tr>\n",
       "      <th>3</th>\n",
       "      <td>[coreweave, raises, 7.5, billion, debt, deal, ...</td>\n",
       "      <td>5/17/2024</td>\n",
       "    </tr>\n",
       "    <tr>\n",
       "      <th>4</th>\n",
       "      <td>[tv, companies, flaunt, ad, tech, ai, persuade...</td>\n",
       "      <td>5/17/2024</td>\n",
       "    </tr>\n",
       "  </tbody>\n",
       "</table>\n",
       "</div>"
      ],
      "text/plain": [
       "                                            Headline       Date\n",
       "0  [microsoft, offers, cloud, customers, amd, alt...  5/17/2024\n",
       "1  [uks, cma, rejects, probe, microsoft-mistral, ...  5/17/2024\n",
       "2  [shoprites, checkers, extends, on-demand, deli...  5/17/2024\n",
       "3  [coreweave, raises, 7.5, billion, debt, deal, ...  5/17/2024\n",
       "4  [tv, companies, flaunt, ad, tech, ai, persuade...  5/17/2024"
      ]
     },
     "execution_count": 51,
     "metadata": {},
     "output_type": "execute_result"
    }
   ],
   "source": [
    "# Define the stop words set\n",
    "stop_words = set(stopwords.words('english'))\n",
    "\n",
    "# Remove stop words\n",
    "news_df['Headline'] = news_df['Headline'].apply(lambda x: [word for word in x if word not in stop_words])\n",
    "\n",
    "news_df.head()"
   ]
  },
  {
   "cell_type": "markdown",
   "id": "17daf48b",
   "metadata": {},
   "source": [
    "# lemmatization"
   ]
  },
  {
   "cell_type": "code",
   "execution_count": 52,
   "id": "a13444b0",
   "metadata": {},
   "outputs": [
    {
     "name": "stderr",
     "output_type": "stream",
     "text": [
      "[nltk_data] Downloading package wordnet to\n",
      "[nltk_data]     C:\\Users\\User\\AppData\\Roaming\\nltk_data...\n",
      "[nltk_data]   Package wordnet is already up-to-date!\n"
     ]
    },
    {
     "data": {
      "text/plain": [
       "True"
      ]
     },
     "execution_count": 52,
     "metadata": {},
     "output_type": "execute_result"
    }
   ],
   "source": [
    "from nltk.stem import WordNetLemmatizer\n",
    "\n",
    "# Ensure NLTK resources are available\n",
    "nltk.download('wordnet')\n",
    "\n"
   ]
  },
  {
   "cell_type": "code",
   "execution_count": 53,
   "id": "b062ae30",
   "metadata": {},
   "outputs": [
    {
     "data": {
      "text/html": [
       "<div>\n",
       "<style scoped>\n",
       "    .dataframe tbody tr th:only-of-type {\n",
       "        vertical-align: middle;\n",
       "    }\n",
       "\n",
       "    .dataframe tbody tr th {\n",
       "        vertical-align: top;\n",
       "    }\n",
       "\n",
       "    .dataframe thead th {\n",
       "        text-align: right;\n",
       "    }\n",
       "</style>\n",
       "<table border=\"1\" class=\"dataframe\">\n",
       "  <thead>\n",
       "    <tr style=\"text-align: right;\">\n",
       "      <th></th>\n",
       "      <th>Headline</th>\n",
       "      <th>Date</th>\n",
       "    </tr>\n",
       "  </thead>\n",
       "  <tbody>\n",
       "    <tr>\n",
       "      <th>0</th>\n",
       "      <td>[microsoft, offer, cloud, customer, amd, alter...</td>\n",
       "      <td>5/17/2024</td>\n",
       "    </tr>\n",
       "    <tr>\n",
       "      <th>1</th>\n",
       "      <td>[uk, cma, reject, probe, microsoft-mistral, ai...</td>\n",
       "      <td>5/17/2024</td>\n",
       "    </tr>\n",
       "    <tr>\n",
       "      <th>2</th>\n",
       "      <td>[shoprites, checker, extends, on-demand, deliv...</td>\n",
       "      <td>5/17/2024</td>\n",
       "    </tr>\n",
       "    <tr>\n",
       "      <th>3</th>\n",
       "      <td>[coreweave, raise, 7.5, billion, debt, deal, l...</td>\n",
       "      <td>5/17/2024</td>\n",
       "    </tr>\n",
       "    <tr>\n",
       "      <th>4</th>\n",
       "      <td>[tv, company, flaunt, ad, tech, ai, persuade, ...</td>\n",
       "      <td>5/17/2024</td>\n",
       "    </tr>\n",
       "    <tr>\n",
       "      <th>...</th>\n",
       "      <td>...</td>\n",
       "      <td>...</td>\n",
       "    </tr>\n",
       "    <tr>\n",
       "      <th>3982</th>\n",
       "      <td>[exclusive, french, delivery, company, colis, ...</td>\n",
       "      <td>7/12/2021</td>\n",
       "    </tr>\n",
       "    <tr>\n",
       "      <th>3983</th>\n",
       "      <td>[virus, variant, threaten, global, recovery, g...</td>\n",
       "      <td>4/29/2024</td>\n",
       "    </tr>\n",
       "    <tr>\n",
       "      <th>3984</th>\n",
       "      <td>[twitter, appoints, grievance, officer, india,...</td>\n",
       "      <td>7/11/2021</td>\n",
       "    </tr>\n",
       "    <tr>\n",
       "      <th>3985</th>\n",
       "      <td>[biden, sign, order, tackle, corporate, abuse,...</td>\n",
       "      <td>7/10/2021</td>\n",
       "    </tr>\n",
       "    <tr>\n",
       "      <th>3986</th>\n",
       "      <td>[dubai, ruler, launch, big, tech, company, nat...</td>\n",
       "      <td>7/10/2021</td>\n",
       "    </tr>\n",
       "  </tbody>\n",
       "</table>\n",
       "<p>3987 rows × 2 columns</p>\n",
       "</div>"
      ],
      "text/plain": [
       "                                               Headline       Date\n",
       "0     [microsoft, offer, cloud, customer, amd, alter...  5/17/2024\n",
       "1     [uk, cma, reject, probe, microsoft-mistral, ai...  5/17/2024\n",
       "2     [shoprites, checker, extends, on-demand, deliv...  5/17/2024\n",
       "3     [coreweave, raise, 7.5, billion, debt, deal, l...  5/17/2024\n",
       "4     [tv, company, flaunt, ad, tech, ai, persuade, ...  5/17/2024\n",
       "...                                                 ...        ...\n",
       "3982  [exclusive, french, delivery, company, colis, ...  7/12/2021\n",
       "3983  [virus, variant, threaten, global, recovery, g...  4/29/2024\n",
       "3984  [twitter, appoints, grievance, officer, india,...  7/11/2021\n",
       "3985  [biden, sign, order, tackle, corporate, abuse,...  7/10/2021\n",
       "3986  [dubai, ruler, launch, big, tech, company, nat...  7/10/2021\n",
       "\n",
       "[3987 rows x 2 columns]"
      ]
     },
     "execution_count": 53,
     "metadata": {},
     "output_type": "execute_result"
    }
   ],
   "source": [
    "# Initialize the lemmatizer\n",
    "lemmatizer = WordNetLemmatizer()\n",
    "\n",
    "# Apply lemmatization\n",
    "news_df['Headline'] = news_df['Headline'].apply(lambda x: [lemmatizer.lemmatize(word) for word in x])\n",
    "news_df"
   ]
  },
  {
   "cell_type": "markdown",
   "id": "b145586e",
   "metadata": {},
   "source": [
    "# Handling missing data"
   ]
  },
  {
   "cell_type": "code",
   "execution_count": 54,
   "id": "3022bb14",
   "metadata": {},
   "outputs": [
    {
     "data": {
      "text/plain": [
       "Headline    0\n",
       "Date        0\n",
       "dtype: int64"
      ]
     },
     "execution_count": 54,
     "metadata": {},
     "output_type": "execute_result"
    }
   ],
   "source": [
    "news_df.isna().sum()\n"
   ]
  },
  {
   "cell_type": "code",
   "execution_count": 55,
   "id": "4572eb78",
   "metadata": {},
   "outputs": [
    {
     "name": "stdout",
     "output_type": "stream",
     "text": [
      "                                               Headline       Date\n",
      "0     microsoft offer cloud customer amd alternative...  5/17/2024\n",
      "1       uk cma reject probe microsoft-mistral ai tie-up  5/17/2024\n",
      "2     shoprites checker extends on-demand delivery g...  5/17/2024\n",
      "3     coreweave raise 7.5 billion debt deal led blac...  5/17/2024\n",
      "4     tv company flaunt ad tech ai persuade advertis...  5/17/2024\n",
      "...                                                 ...        ...\n",
      "3982  exclusive french delivery company colis privé ...  7/12/2021\n",
      "3983   virus variant threaten global recovery g20 warns  4/29/2024\n",
      "3984  twitter appoints grievance officer india compl...  7/11/2021\n",
      "3985  biden sign order tackle corporate abuse across...  7/10/2021\n",
      "3986  dubai ruler launch big tech company national p...  7/10/2021\n",
      "\n",
      "[3987 rows x 2 columns]\n"
     ]
    }
   ],
   "source": [
    "# Merge tokens into a single string\n",
    "news_df['Headline'] = news_df['Headline'].apply(lambda tokens: ' '.join(tokens))\n",
    "\n",
    "# Display the DataFrame with merged tokens\n",
    "print(news_df)"
   ]
  },
  {
   "cell_type": "code",
   "execution_count": 72,
   "id": "e0995a9f",
   "metadata": {},
   "outputs": [
    {
     "name": "stdout",
     "output_type": "stream",
     "text": [
      "                                               Headline       Date\n",
      "3986  dubai ruler launch big tech company national p... 2021-07-10\n",
      "3985  biden sign order tackle corporate abuse across... 2021-07-10\n",
      "3984  twitter appoints grievance officer india compl... 2021-07-11\n",
      "3982  exclusive french delivery company colis privé ... 2021-07-12\n",
      "3981  billionaire branson soar space aboard virgin g... 2021-07-12\n",
      "...                                                 ...        ...\n",
      "3     coreweave raise 7.5 billion debt deal led blac... 2024-05-17\n",
      "1       uk cma reject probe microsoft-mistral ai tie-up 2024-05-17\n",
      "5        space data fuel india farming innovation drive 2024-05-17\n",
      "4     tv company flaunt ad tech ai persuade advertis... 2024-05-17\n",
      "0     microsoft offer cloud customer amd alternative... 2024-05-17\n",
      "\n",
      "[3987 rows x 2 columns]\n"
     ]
    }
   ],
   "source": [
    "# Convert the \"Date\" column to datetime format\n",
    "news_df['Date'] = pd.to_datetime(news_df['Date'])\n",
    "\n",
    "# Sort the DataFrame in ascending order based on the \"Date\" column\n",
    "news_df_sorted = news_df.sort_values(by='Date')\n",
    "print(news_df_sorted)"
   ]
  },
  {
   "cell_type": "markdown",
   "id": "b1938419",
   "metadata": {},
   "source": [
    "# Merge news and stock price data"
   ]
  },
  {
   "cell_type": "code",
   "execution_count": 73,
   "id": "1415e109",
   "metadata": {},
   "outputs": [
    {
     "data": {
      "text/html": [
       "<div>\n",
       "<style scoped>\n",
       "    .dataframe tbody tr th:only-of-type {\n",
       "        vertical-align: middle;\n",
       "    }\n",
       "\n",
       "    .dataframe tbody tr th {\n",
       "        vertical-align: top;\n",
       "    }\n",
       "\n",
       "    .dataframe thead th {\n",
       "        text-align: right;\n",
       "    }\n",
       "</style>\n",
       "<table border=\"1\" class=\"dataframe\">\n",
       "  <thead>\n",
       "    <tr style=\"text-align: right;\">\n",
       "      <th></th>\n",
       "      <th>Date</th>\n",
       "      <th>Open</th>\n",
       "      <th>High</th>\n",
       "      <th>Low</th>\n",
       "      <th>Close</th>\n",
       "      <th>Adj Close</th>\n",
       "      <th>Volume</th>\n",
       "    </tr>\n",
       "  </thead>\n",
       "  <tbody>\n",
       "    <tr>\n",
       "      <th>0</th>\n",
       "      <td>2021-01-04</td>\n",
       "      <td>163.500000</td>\n",
       "      <td>163.600006</td>\n",
       "      <td>157.201004</td>\n",
       "      <td>159.331497</td>\n",
       "      <td>159.331497</td>\n",
       "      <td>88228000</td>\n",
       "    </tr>\n",
       "    <tr>\n",
       "      <th>1</th>\n",
       "      <td>2021-01-05</td>\n",
       "      <td>158.300507</td>\n",
       "      <td>161.169006</td>\n",
       "      <td>158.253006</td>\n",
       "      <td>160.925507</td>\n",
       "      <td>160.925507</td>\n",
       "      <td>53110000</td>\n",
       "    </tr>\n",
       "    <tr>\n",
       "      <th>2</th>\n",
       "      <td>2021-01-06</td>\n",
       "      <td>157.324005</td>\n",
       "      <td>159.875504</td>\n",
       "      <td>156.557999</td>\n",
       "      <td>156.919006</td>\n",
       "      <td>156.919006</td>\n",
       "      <td>87896000</td>\n",
       "    </tr>\n",
       "    <tr>\n",
       "      <th>3</th>\n",
       "      <td>2021-01-07</td>\n",
       "      <td>157.850006</td>\n",
       "      <td>160.427002</td>\n",
       "      <td>157.750000</td>\n",
       "      <td>158.108002</td>\n",
       "      <td>158.108002</td>\n",
       "      <td>70290000</td>\n",
       "    </tr>\n",
       "    <tr>\n",
       "      <th>4</th>\n",
       "      <td>2021-01-08</td>\n",
       "      <td>159.000000</td>\n",
       "      <td>159.531998</td>\n",
       "      <td>157.110001</td>\n",
       "      <td>159.134995</td>\n",
       "      <td>159.134995</td>\n",
       "      <td>70754000</td>\n",
       "    </tr>\n",
       "  </tbody>\n",
       "</table>\n",
       "</div>"
      ],
      "text/plain": [
       "         Date        Open        High         Low       Close   Adj Close  \\\n",
       "0  2021-01-04  163.500000  163.600006  157.201004  159.331497  159.331497   \n",
       "1  2021-01-05  158.300507  161.169006  158.253006  160.925507  160.925507   \n",
       "2  2021-01-06  157.324005  159.875504  156.557999  156.919006  156.919006   \n",
       "3  2021-01-07  157.850006  160.427002  157.750000  158.108002  158.108002   \n",
       "4  2021-01-08  159.000000  159.531998  157.110001  159.134995  159.134995   \n",
       "\n",
       "     Volume  \n",
       "0  88228000  \n",
       "1  53110000  \n",
       "2  87896000  \n",
       "3  70290000  \n",
       "4  70754000  "
      ]
     },
     "execution_count": 73,
     "metadata": {},
     "output_type": "execute_result"
    }
   ],
   "source": [
    "# import amazon stock price dataset\n",
    "# Load the news headlines dataset\n",
    "price_df = pd.read_csv(r'C:\\Users\\User\\Downloads\\AMZN.csv')\n",
    "\n",
    "price_df.head()"
   ]
  },
  {
   "cell_type": "code",
   "execution_count": 77,
   "id": "bd6fc449",
   "metadata": {},
   "outputs": [],
   "source": [
    "# Convert \"Date\" column in price_df to datetime64[ns]\n",
    "price_df['Date'] = pd.to_datetime(price_df['Date'])"
   ]
  },
  {
   "cell_type": "code",
   "execution_count": 78,
   "id": "da7bc225",
   "metadata": {},
   "outputs": [
    {
     "name": "stdout",
     "output_type": "stream",
     "text": [
      "          Date                                           Headline\n",
      "0   2021-07-10  dubai ruler launch big tech company national p...\n",
      "1   2021-07-11  twitter appoints grievance officer india compl...\n",
      "2   2021-07-12  exclusive french delivery company colis privé ...\n",
      "3   2021-07-13  verizon business sign 5g contactless payment d...\n",
      "4   2021-07-14  nike loses fight eu probe dutch tax deal amazo...\n",
      "..         ...                                                ...\n",
      "870 2024-05-13  choose france investment push bag record 16 bi...\n",
      "871 2024-05-14  amazon cloud unit chief step three year invest...\n",
      "872 2024-05-15  u canadian company kick 2024 layoff amazon web...\n",
      "873 2024-05-16                  european regulator crack big tech\n",
      "874 2024-05-17  shoprites checker extends on-demand delivery g...\n",
      "\n",
      "[875 rows x 2 columns]\n"
     ]
    }
   ],
   "source": [
    "# Group news_df by Date and aggregate headlines into one row per date\n",
    "news_grouped = news_df_sorted.groupby('Date')['Headline'].apply(lambda x: ' '.join(x)).reset_index()\n",
    "print(news_grouped)"
   ]
  },
  {
   "cell_type": "code",
   "execution_count": 81,
   "id": "b21d2979",
   "metadata": {},
   "outputs": [],
   "source": [
    "# Merge news_grouped and price_df based on the Date column\n",
    "merged_df = pd.merge(price_df,news_grouped,  on=\"Date\", how=\"left\")\n"
   ]
  },
  {
   "cell_type": "code",
   "execution_count": 82,
   "id": "0efc7b3e",
   "metadata": {},
   "outputs": [
    {
     "name": "stdout",
     "output_type": "stream",
     "text": [
      "          Date        Open        High         Low       Close   Adj Close  \\\n",
      "0   2021-01-04  163.500000  163.600006  157.201004  159.331497  159.331497   \n",
      "1   2021-01-05  158.300507  161.169006  158.253006  160.925507  160.925507   \n",
      "2   2021-01-06  157.324005  159.875504  156.557999  156.919006  156.919006   \n",
      "3   2021-01-07  157.850006  160.427002  157.750000  158.108002  158.108002   \n",
      "4   2021-01-08  159.000000  159.531998  157.110001  159.134995  159.134995   \n",
      "..         ...         ...         ...         ...         ...         ...   \n",
      "844 2024-05-13  188.000000  188.309998  185.360001  186.570007  186.570007   \n",
      "845 2024-05-14  183.820007  187.720001  183.449997  187.070007  187.070007   \n",
      "846 2024-05-15  185.970001  186.720001  182.729996  185.990005  185.990005   \n",
      "847 2024-05-16  185.600006  187.309998  183.460007  183.630005  183.630005   \n",
      "848 2024-05-17  183.759995  185.300003  183.350006  184.699997  184.699997   \n",
      "\n",
      "       Volume                                           Headline  \n",
      "0    88228000                                                NaN  \n",
      "1    53110000                                                NaN  \n",
      "2    87896000                                                NaN  \n",
      "3    70290000                                                NaN  \n",
      "4    70754000                                                NaN  \n",
      "..        ...                                                ...  \n",
      "844  24898600  choose france investment push bag record 16 bi...  \n",
      "845  38698200  amazon cloud unit chief step three year invest...  \n",
      "846  75459900  u canadian company kick 2024 layoff amazon web...  \n",
      "847  38834500                  european regulator crack big tech  \n",
      "848  31813700  shoprites checker extends on-demand delivery g...  \n",
      "\n",
      "[849 rows x 8 columns]\n"
     ]
    }
   ],
   "source": [
    "print(merged_df)"
   ]
  },
  {
   "cell_type": "code",
   "execution_count": 83,
   "id": "45875931",
   "metadata": {},
   "outputs": [],
   "source": [
    "# Assuming df is your DataFrame containing the data\n",
    "merged_df.dropna(subset=['Headline'], inplace=True)"
   ]
  },
  {
   "cell_type": "code",
   "execution_count": 84,
   "id": "cefb8975",
   "metadata": {},
   "outputs": [
    {
     "name": "stdout",
     "output_type": "stream",
     "text": [
      "          Date        Open        High         Low       Close   Adj Close  \\\n",
      "130 2021-07-12  187.199997  187.864502  184.839493  185.927505  185.927505   \n",
      "131 2021-07-13  185.104996  188.654007  183.565994  183.867996  183.867996   \n",
      "132 2021-07-14  185.442505  185.882996  183.041504  184.084000  184.084000   \n",
      "133 2021-07-15  184.710007  184.770004  181.046005  181.559998  181.559998   \n",
      "134 2021-07-16  181.665497  182.302994  178.522995  178.681503  178.681503   \n",
      "..         ...         ...         ...         ...         ...         ...   \n",
      "844 2024-05-13  188.000000  188.309998  185.360001  186.570007  186.570007   \n",
      "845 2024-05-14  183.820007  187.720001  183.449997  187.070007  187.070007   \n",
      "846 2024-05-15  185.970001  186.720001  182.729996  185.990005  185.990005   \n",
      "847 2024-05-16  185.600006  187.309998  183.460007  183.630005  183.630005   \n",
      "848 2024-05-17  183.759995  185.300003  183.350006  184.699997  184.699997   \n",
      "\n",
      "       Volume                                           Headline  \n",
      "130  51432000  exclusive french delivery company colis privé ...  \n",
      "131  76918000  verizon business sign 5g contactless payment d...  \n",
      "132  65932000  nike loses fight eu probe dutch tax deal amazo...  \n",
      "133  63706000  fed boost bond delta blue stall stock nasdaq e...  \n",
      "134  80874000  amazon-backed rivian delay first ev delivery s...  \n",
      "..        ...                                                ...  \n",
      "844  24898600  choose france investment push bag record 16 bi...  \n",
      "845  38698200  amazon cloud unit chief step three year invest...  \n",
      "846  75459900  u canadian company kick 2024 layoff amazon web...  \n",
      "847  38834500                  european regulator crack big tech  \n",
      "848  31813700  shoprites checker extends on-demand delivery g...  \n",
      "\n",
      "[709 rows x 8 columns]\n"
     ]
    }
   ],
   "source": [
    "print(merged_df)"
   ]
  },
  {
   "cell_type": "code",
   "execution_count": 85,
   "id": "7905ab97",
   "metadata": {},
   "outputs": [],
   "source": [
    "merged_df.to_csv('merged_data.csv', index=False)\n"
   ]
  },
  {
   "cell_type": "code",
   "execution_count": 86,
   "id": "c5fbf5ad",
   "metadata": {},
   "outputs": [
    {
     "name": "stdout",
     "output_type": "stream",
     "text": [
      "Current Directory: C:\\Users\\User\n"
     ]
    }
   ],
   "source": [
    "import os\n",
    "\n",
    "# Get the current working directory\n",
    "current_directory = os.getcwd()\n",
    "print(\"Current Directory:\", current_directory)"
   ]
  },
  {
   "cell_type": "code",
   "execution_count": null,
   "id": "0ff497c1",
   "metadata": {},
   "outputs": [],
   "source": []
  }
 ],
 "metadata": {
  "kernelspec": {
   "display_name": "Python 3 (ipykernel)",
   "language": "python",
   "name": "python3"
  },
  "language_info": {
   "codemirror_mode": {
    "name": "ipython",
    "version": 3
   },
   "file_extension": ".py",
   "mimetype": "text/x-python",
   "name": "python",
   "nbconvert_exporter": "python",
   "pygments_lexer": "ipython3",
   "version": "3.11.4"
  }
 },
 "nbformat": 4,
 "nbformat_minor": 5
}
